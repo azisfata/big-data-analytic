{
 "cells": [
  {
   "cell_type": "code",
   "execution_count": 9,
   "metadata": {},
   "outputs": [
    {
     "name": "stdout",
     "output_type": "stream",
     "text": [
      "Status code: 200\n",
      "Jumlah tautan berita: 0\n"
     ]
    }
   ],
   "source": [
    "import requests\n",
    "from bs4 import BeautifulSoup\n",
    "\n",
    "url = \"https://www.detik.com/\"  # Ganti dengan URL situs berita yang ingin Anda crawl\n",
    "\n",
    "# Lakukan permintaan HTTP ke URL\n",
    "response = requests.get(url)\n",
    "print(\"Status code:\", response.status_code)\n",
    "\n",
    "# Periksa apakah permintaan berhasil\n",
    "if response.status_code == 200:\n",
    "    soup = BeautifulSoup(response.content, \"html.parser\")\n",
    "\n",
    "    # Temukan elemen-elemen yang berisi tautan berita\n",
    "    news_links = soup.find_all(\"a\", class_=\"news-link\")  # Ganti dengan selektor CSS yang sesuai untuk tautan berita\n",
    "    print(\"Jumlah tautan berita:\", len(news_links))\n",
    "    # Loop melalui tautan berita dan akses halaman masing-masing berita\n",
    "    for link in news_links:\n",
    "        news_url = link[\"href\"]\n",
    "        print(\"Mengakses halaman berita:\", news_url)\n",
    "        news_response = requests.get(news_url)\n",
    "\n",
    "        if news_response.status_code == 200:\n",
    "            news_soup = BeautifulSoup(news_response.content, \"html.parser\")\n",
    "\n",
    "            # Lakukan ekstraksi data yang diperlukan dari halaman berita\n",
    "            # Misalnya, judul, tanggal, isi berita, dll.\n",
    "            title = news_soup.find(\"h1\", class_=\"news-title\").text  # Ganti dengan selektor CSS yang sesuai untuk judul berita\n",
    "            date = news_soup.find(\"span\", class_=\"news-date\").text  # Ganti dengan selektor CSS yang sesuai untuk tanggal berita\n",
    "            content = news_soup.find(\"div\", class_=\"news-content\").text  # Ganti dengan selektor CSS yang sesuai untuk isi berita\n",
    "\n",
    "            # Lakukan sesuatu dengan data berita yang diekstraksi, misalnya simpan ke file atau basis data\n",
    "            # atau langsung tampilkan di konsol\n",
    "            print(\"Judul:\", title)\n",
    "            print(\"Tanggal:\", date)\n",
    "            print(\"Isi:\", content)\n",
    "        else:\n",
    "            print(\"Gagal mengakses halaman berita:\", news_url)\n",
    "else:\n",
    "    print(\"Gagal mengakses situs berita\")\n"
   ]
  },
  {
   "cell_type": "code",
   "execution_count": null,
   "metadata": {},
   "outputs": [],
   "source": [
    "import requests\n",
    "from bs4 import BeautifulSoup\n",
    "\n",
    "url = \"https://www.contohsitusberita.com\"  # Ganti dengan URL situs berita yang ingin Anda crawl\n",
    "\n",
    "# Lakukan permintaan HTTP ke URL\n",
    "response = requests.get(url)\n",
    "\n",
    "# Periksa apakah permintaan berhasil\n",
    "if response.status_code == 200:\n",
    "    soup = BeautifulSoup(response.content, \"html.parser\")\n",
    "\n",
    "    # Temukan elemen-elemen yang berisi tautan berita\n",
    "    news_links = soup.find_all(\"a\", class_=\"news-link\")  # Ganti dengan selektor CSS yang sesuai untuk tautan berita\n",
    "\n",
    "    # Loop melalui tautan berita dan akses halaman masing-masing berita\n",
    "    for link in news_links:\n",
    "        news_url = link[\"href\"]\n",
    "        news_response = requests.get(news_url)\n",
    "\n",
    "        if news_response.status_code == 200:\n",
    "            news_soup = BeautifulSoup(news_response.content, \"html.parser\")\n",
    "\n",
    "            # Lakukan ekstraksi data yang diperlukan dari halaman berita\n",
    "            # Misalnya, judul, tanggal, isi berita, dll.\n",
    "            title = news_soup.find(\"h1\", class_=\"news-title\").text  # Ganti dengan selektor CSS yang sesuai untuk judul berita\n",
    "            date = news_soup.find(\"span\", class_=\"news-date\").text  # Ganti dengan selektor CSS yang sesuai untuk tanggal berita\n",
    "            content = news_soup.find(\"div\", class_=\"news-content\").text  # Ganti dengan selektor CSS yang sesuai untuk isi berita\n",
    "\n",
    "            # Lakukan sesuatu dengan data berita yang diekstraksi, misalnya simpan ke file atau basis data\n",
    "            # atau langsung tampilkan di konsol\n",
    "            print(\"Judul:\", title)\n",
    "            print(\"Tanggal:\", date)\n",
    "            print(\"Isi:\", content)\n",
    "        else:\n",
    "            print(\"Gagal mengakses halaman berita:\", news_url)\n",
    "else:\n",
    "    print(\"Gagal mengakses situs berita\")\n"
   ]
  }
 ],
 "metadata": {
  "kernelspec": {
   "display_name": "Python 3",
   "language": "python",
   "name": "python3"
  },
  "language_info": {
   "codemirror_mode": {
    "name": "ipython",
    "version": 3
   },
   "file_extension": ".py",
   "mimetype": "text/x-python",
   "name": "python",
   "nbconvert_exporter": "python",
   "pygments_lexer": "ipython3",
   "version": "3.10.7"
  },
  "orig_nbformat": 4
 },
 "nbformat": 4,
 "nbformat_minor": 2
}
