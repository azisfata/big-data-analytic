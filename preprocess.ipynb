{
 "cells": [
  {
   "cell_type": "code",
   "execution_count": 2,
   "metadata": {},
   "outputs": [
    {
     "data": {
      "text/plain": [
       "(38937, 27)"
      ]
     },
     "execution_count": 2,
     "metadata": {},
     "output_type": "execute_result"
    }
   ],
   "source": [
    "import pandas as pd\n",
    "\n",
    "#baca excel\n",
    "df = pd.read_excel('Data_Berita/allNews_raw.xlsx')\n",
    "df.shape"
   ]
  },
  {
   "cell_type": "code",
   "execution_count": 3,
   "metadata": {},
   "outputs": [
    {
     "data": {
      "text/plain": [
       "Index(['created', '_id', '_index', '_type', 'authors', 'desc', 'favicon',\n",
       "       'fulltext', 'hashtitle', 'highlight', 'keywords', 'language', 'link',\n",
       "       'media_url', 'ner.location', 'ner.organization', 'ner.person',\n",
       "       'ners.location', 'ners.organization', 'ners.person', 'published',\n",
       "       'sdgs', 'site', 'sort', 'summary', 'title', 'topic'],\n",
       "      dtype='object')"
      ]
     },
     "execution_count": 3,
     "metadata": {},
     "output_type": "execute_result"
    }
   ],
   "source": [
    "#tampilkan nama kolomnya saja\n",
    "df.columns"
   ]
  },
  {
   "cell_type": "code",
   "execution_count": 4,
   "metadata": {},
   "outputs": [
    {
     "data": {
      "text/html": [
       "<div>\n",
       "<style scoped>\n",
       "    .dataframe tbody tr th:only-of-type {\n",
       "        vertical-align: middle;\n",
       "    }\n",
       "\n",
       "    .dataframe tbody tr th {\n",
       "        vertical-align: top;\n",
       "    }\n",
       "\n",
       "    .dataframe thead th {\n",
       "        text-align: right;\n",
       "    }\n",
       "</style>\n",
       "<table border=\"1\" class=\"dataframe\">\n",
       "  <thead>\n",
       "    <tr style=\"text-align: right;\">\n",
       "      <th></th>\n",
       "      <th>created</th>\n",
       "      <th>site</th>\n",
       "      <th>link</th>\n",
       "      <th>fulltext</th>\n",
       "      <th>summary</th>\n",
       "      <th>title</th>\n",
       "      <th>topic</th>\n",
       "    </tr>\n",
       "  </thead>\n",
       "  <tbody>\n",
       "    <tr>\n",
       "      <th>0</th>\n",
       "      <td>2023-06-11 23:48:46</td>\n",
       "      <td>kompas.tv</td>\n",
       "      <td>https://www.kompas.tv/video/415339/sby-respons...</td>\n",
       "      <td>Minggu, 11 Juni 2023 | 23:37 WIB\\n\\nKOMPAS.TV ...</td>\n",
       "      <td>Minggu, 11 Juni 2023 | 23:37 WIBKOMPAS.TV - Ke...</td>\n",
       "      <td>SBY Respons Rencana Pertemuan AHY-Puan Maharan...</td>\n",
       "      <td>Politik</td>\n",
       "    </tr>\n",
       "    <tr>\n",
       "      <th>1</th>\n",
       "      <td>2023-06-11 23:37:55</td>\n",
       "      <td>kompas.id</td>\n",
       "      <td>http://kompas.id/baca/polhuk/2023/06/11/hasto-...</td>\n",
       "      <td>Situasi kebangsaan dan sistem pemilu menjadi b...</td>\n",
       "      <td>Situasi kebangsaan dan sistem pemilu menjadi b...</td>\n",
       "      <td>Hasto dan Teuku Riefky Bertemu, Ruang Dialog P...</td>\n",
       "      <td>Politik</td>\n",
       "    </tr>\n",
       "    <tr>\n",
       "      <th>2</th>\n",
       "      <td>2023-06-11 23:27:12</td>\n",
       "      <td>tribunnews.com</td>\n",
       "      <td>https://www.tribunnews.com/mata-lokal-memilih/...</td>\n",
       "      <td>Sekjen PDIP Hasto Kristiyanto dan Sekjen Parta...</td>\n",
       "      <td>Sekjen PDIP Hasto Kristiyanto dan Sekjen Parta...</td>\n",
       "      <td>Bertemu dengan Hasto PDIP, Sekjen Demokrat: Ka...</td>\n",
       "      <td>Politik</td>\n",
       "    </tr>\n",
       "    <tr>\n",
       "      <th>3</th>\n",
       "      <td>2023-06-11 23:26:58</td>\n",
       "      <td>kompas.tv</td>\n",
       "      <td>https://www.kompas.tv/nasional/415331/sekjen-p...</td>\n",
       "      <td>Minggu, 11 Juni 2023 | 23:19 WIB\\n\\nJuru Bicar...</td>\n",
       "      <td>Minggu, 11 Juni 2023 | 23:19 WIBJuru Bicara DP...</td>\n",
       "      <td>Sekjen Partai Demokrat dan PDIP Bertemu Tadi S...</td>\n",
       "      <td>Politik</td>\n",
       "    </tr>\n",
       "    <tr>\n",
       "      <th>4</th>\n",
       "      <td>2023-06-11 23:04:58</td>\n",
       "      <td>kompas.tv</td>\n",
       "      <td>https://www.kompas.tv/video/415327/puan-sebut-...</td>\n",
       "      <td>Minggu, 11 Juni 2023 | 22:56 WIB\\n\\nJAKARTA, K...</td>\n",
       "      <td>Minggu, 11 Juni 2023 | 22:56 WIBJAKARTA, KOMPA...</td>\n",
       "      <td>Puan Sebut Cak Imin Masuk Bursa Bakal Cawapres...</td>\n",
       "      <td>Politik</td>\n",
       "    </tr>\n",
       "  </tbody>\n",
       "</table>\n",
       "</div>"
      ],
      "text/plain": [
       "              created            site  \\\n",
       "0 2023-06-11 23:48:46       kompas.tv   \n",
       "1 2023-06-11 23:37:55       kompas.id   \n",
       "2 2023-06-11 23:27:12  tribunnews.com   \n",
       "3 2023-06-11 23:26:58       kompas.tv   \n",
       "4 2023-06-11 23:04:58       kompas.tv   \n",
       "\n",
       "                                                link  \\\n",
       "0  https://www.kompas.tv/video/415339/sby-respons...   \n",
       "1  http://kompas.id/baca/polhuk/2023/06/11/hasto-...   \n",
       "2  https://www.tribunnews.com/mata-lokal-memilih/...   \n",
       "3  https://www.kompas.tv/nasional/415331/sekjen-p...   \n",
       "4  https://www.kompas.tv/video/415327/puan-sebut-...   \n",
       "\n",
       "                                            fulltext  \\\n",
       "0  Minggu, 11 Juni 2023 | 23:37 WIB\\n\\nKOMPAS.TV ...   \n",
       "1  Situasi kebangsaan dan sistem pemilu menjadi b...   \n",
       "2  Sekjen PDIP Hasto Kristiyanto dan Sekjen Parta...   \n",
       "3  Minggu, 11 Juni 2023 | 23:19 WIB\\n\\nJuru Bicar...   \n",
       "4  Minggu, 11 Juni 2023 | 22:56 WIB\\n\\nJAKARTA, K...   \n",
       "\n",
       "                                             summary  \\\n",
       "0  Minggu, 11 Juni 2023 | 23:37 WIBKOMPAS.TV - Ke...   \n",
       "1  Situasi kebangsaan dan sistem pemilu menjadi b...   \n",
       "2  Sekjen PDIP Hasto Kristiyanto dan Sekjen Parta...   \n",
       "3  Minggu, 11 Juni 2023 | 23:19 WIBJuru Bicara DP...   \n",
       "4  Minggu, 11 Juni 2023 | 22:56 WIBJAKARTA, KOMPA...   \n",
       "\n",
       "                                               title    topic  \n",
       "0  SBY Respons Rencana Pertemuan AHY-Puan Maharan...  Politik  \n",
       "1  Hasto dan Teuku Riefky Bertemu, Ruang Dialog P...  Politik  \n",
       "2  Bertemu dengan Hasto PDIP, Sekjen Demokrat: Ka...  Politik  \n",
       "3  Sekjen Partai Demokrat dan PDIP Bertemu Tadi S...  Politik  \n",
       "4  Puan Sebut Cak Imin Masuk Bursa Bakal Cawapres...  Politik  "
      ]
     },
     "execution_count": 4,
     "metadata": {},
     "output_type": "execute_result"
    }
   ],
   "source": [
    "#hanya ambil data di kolom created, fulltext, link, site, summary, title, topic\n",
    "lite = df[['created', 'site', 'link', 'fulltext', 'summary', 'title', 'topic']]\n",
    "lite.head()"
   ]
  },
  {
   "cell_type": "code",
   "execution_count": 5,
   "metadata": {},
   "outputs": [
    {
     "data": {
      "text/plain": [
       "(31159, 7)"
      ]
     },
     "execution_count": 5,
     "metadata": {},
     "output_type": "execute_result"
    }
   ],
   "source": [
    "#remove duplicate\n",
    "clean = lite.drop_duplicates(['title'])\n",
    "clean.shape"
   ]
  },
  {
   "cell_type": "code",
   "execution_count": 6,
   "metadata": {},
   "outputs": [
    {
     "name": "stderr",
     "output_type": "stream",
     "text": [
      "C:\\Users\\azisf\\AppData\\Local\\Temp\\ipykernel_21028\\3424442370.py:1: SettingWithCopyWarning: \n",
      "A value is trying to be set on a copy of a slice from a DataFrame.\n",
      "Try using .loc[row_indexer,col_indexer] = value instead\n",
      "\n",
      "See the caveats in the documentation: https://pandas.pydata.org/pandas-docs/stable/user_guide/indexing.html#returning-a-view-versus-a-copy\n",
      "  clean['Nama Calon'] = ''\n",
      "C:\\Users\\azisf\\AppData\\Local\\Temp\\ipykernel_21028\\3424442370.py:9: SettingWithCopyWarning: \n",
      "A value is trying to be set on a copy of a slice from a DataFrame.\n",
      "Try using .loc[row_indexer,col_indexer] = value instead\n",
      "\n",
      "See the caveats in the documentation: https://pandas.pydata.org/pandas-docs/stable/user_guide/indexing.html#returning-a-view-versus-a-copy\n",
      "  clean['Nama Calon'] = clean['Nama Calon'].str.rstrip(', ')\n"
     ]
    },
    {
     "data": {
      "text/plain": [
       "Nama Calon\n",
       "                          14863\n",
       "Ganjar                     6175\n",
       "Prabowo                    4396\n",
       "Anies                      3862\n",
       "Ganjar, Prabowo             720\n",
       "Anies, Ganjar, Prabowo      605\n",
       "Anies, Ganjar               455\n",
       "Anies, Prabowo               83\n",
       "dtype: int64"
      ]
     },
     "execution_count": 6,
     "metadata": {},
     "output_type": "execute_result"
    }
   ],
   "source": [
    "clean['Nama Calon'] = ''\n",
    "\n",
    "# Deteksi Nama Calon\n",
    "clean.loc[clean['title'].str.contains('anies', case=False), 'Nama Calon'] += 'Anies, '\n",
    "clean.loc[clean['title'].str.contains('ganjar', case=False), 'Nama Calon'] += 'Ganjar, '\n",
    "clean.loc[clean['title'].str.contains('prabowo', case=False), 'Nama Calon'] += 'Prabowo, '\n",
    "\n",
    "# Menghapus koma terakhir\n",
    "clean['Nama Calon'] = clean['Nama Calon'].str.rstrip(', ')\n",
    "\n",
    "# Menampilkan hasil\n",
    "clean.value_counts('Nama Calon')\n"
   ]
  },
  {
   "cell_type": "code",
   "execution_count": 7,
   "metadata": {},
   "outputs": [
    {
     "data": {
      "text/plain": [
       "Nama Calon\n",
       "Ganjar     6175\n",
       "Prabowo    4396\n",
       "Anies      3862\n",
       "dtype: int64"
      ]
     },
     "execution_count": 7,
     "metadata": {},
     "output_type": "execute_result"
    }
   ],
   "source": [
    "filter = clean.loc[clean['Nama Calon'].isin(['Ganjar', 'Anies', 'Prabowo'])]\n",
    "filter.value_counts('Nama Calon')"
   ]
  },
  {
   "cell_type": "code",
   "execution_count": 8,
   "metadata": {},
   "outputs": [],
   "source": [
    "#Simpan filter ke excel\n",
    "filter.to_excel('Data_Berita/allNews_clean.xlsx', index=False)"
   ]
  }
 ],
 "metadata": {
  "kernelspec": {
   "display_name": "Python 3",
   "language": "python",
   "name": "python3"
  },
  "language_info": {
   "codemirror_mode": {
    "name": "ipython",
    "version": 3
   },
   "file_extension": ".py",
   "mimetype": "text/x-python",
   "name": "python",
   "nbconvert_exporter": "python",
   "pygments_lexer": "ipython3",
   "version": "3.10.7"
  },
  "orig_nbformat": 4
 },
 "nbformat": 4,
 "nbformat_minor": 2
}
