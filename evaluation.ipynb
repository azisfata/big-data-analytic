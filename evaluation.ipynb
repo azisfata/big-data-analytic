{
 "cells": [
  {
   "cell_type": "code",
   "execution_count": null,
   "metadata": {},
   "outputs": [],
   "source": [
    "import pandas as pd\n",
    "\n",
    "# Read the excel file\n",
    "indoLEM = pd.read_excel('./Data_Berita/IndoLEM.xlsx')\n",
    "indoLEM"
   ]
  },
  {
   "cell_type": "code",
   "execution_count": null,
   "metadata": {},
   "outputs": [],
   "source": [
    "# Read the excel file\n",
    "indoNLU = pd.read_excel('./Data_Berita/IndoNLU.xlsx')\n",
    "indoNLU"
   ]
  },
  {
   "cell_type": "code",
   "execution_count": null,
   "metadata": {},
   "outputs": [],
   "source": [
    "#tampilkan data kolom Sentimen IndoNLU tidak sama dengan IndoLEM\n",
    "saring = indoNLU[indoNLU['Sentimen'] != indoLEM['Sentimen']]\n",
    "saring"
   ]
  },
  {
   "cell_type": "code",
   "execution_count": null,
   "metadata": {},
   "outputs": [],
   "source": [
    "#pada kolom title indoNLU vlookup dengan kolom title indoLEM untuk mendapatkankan kolom sentimen indoLEM\n",
    "saring['Sentimen_IndoLEM'] = indoNLU['title'].map(indoLEM.set_index('title')['Sentimen'])\n",
    "saring"
   ]
  },
  {
   "cell_type": "code",
   "execution_count": null,
   "metadata": {},
   "outputs": [],
   "source": [
    "#simpan saring ke excel\n",
    "saring.to_excel('./Data_Berita/saring.xlsx')"
   ]
  },
  {
   "cell_type": "code",
   "execution_count": null,
   "metadata": {},
   "outputs": [],
   "source": [
    "#ambil 100 data secara random dari saring\n",
    "sample100 = saring.sample(n=100)\n",
    "sample100.to_excel('./Data_Berita/sample100.xlsx')\n",
    "sample100.value_counts('Sentimen', sort=True), sample100.value_counts('Sentimen_IndoLEM', sort=True)"
   ]
  },
  {
   "cell_type": "code",
   "execution_count": null,
   "metadata": {},
   "outputs": [],
   "source": [
    "import pandas as pd\n",
    "\n",
    "#baca excel sample100\n",
    "sample100 = pd.read_excel('./Data_Berita/sample100.xlsx')\n",
    "sample100"
   ]
  },
  {
   "cell_type": "code",
   "execution_count": null,
   "metadata": {},
   "outputs": [],
   "source": [
    "#copy isi dari kolom Sentimen_IndoNLU ke list sentimen_indoNLU\n",
    "sentimen_indoNLU = sample100['Sentimen_IndoNLU'].tolist()\n",
    "sentimen_indoNLU"
   ]
  },
  {
   "cell_type": "code",
   "execution_count": null,
   "metadata": {},
   "outputs": [],
   "source": [
    "#copy isi dari kolom Sentimen_IndoLEM ke list sentimen_IndoLEM\n",
    "sentimen_IndoLEM = sample100['Sentimen_IndoLEM'].tolist()\n",
    "sentimen_IndoLEM"
   ]
  },
  {
   "cell_type": "code",
   "execution_count": null,
   "metadata": {},
   "outputs": [],
   "source": [
    "#copy isi dari kolom Cek_Manual ke list cek_Manual\n",
    "cek_Manual = sample100['Cek_Manual'].tolist()\n",
    "cek_Manual"
   ]
  },
  {
   "cell_type": "code",
   "execution_count": null,
   "metadata": {},
   "outputs": [],
   "source": [
    "#tabel tesset tidak memiliki header\n",
    "tesset = pd.read_excel('./Data_Berita/tesset.xlsx', header=None)\n",
    "tesset"
   ]
  },
  {
   "cell_type": "code",
   "execution_count": null,
   "metadata": {},
   "outputs": [],
   "source": [
    "#tambahkan header text dan sentimen\n",
    "tesset.columns = ['Text', 'Sentimen']\n",
    "tesset"
   ]
  },
  {
   "cell_type": "code",
   "execution_count": null,
   "metadata": {},
   "outputs": [],
   "source": [
    "#simpan kolom Sentimen ke list sentimen_tesset\n",
    "sentimen_tesset = tesset['Sentimen'].tolist()\n",
    "len(sentimen_tesset)"
   ]
  },
  {
   "cell_type": "code",
   "execution_count": 28,
   "metadata": {},
   "outputs": [
    {
     "name": "stdout",
     "output_type": "stream",
     "text": [
      "\n",
      "\n",
      "Matriks Kebingungan:\n",
      "                Prediksi Positif  Prediksi Negatif  Prediksi Netral\n",
      "Aktual Positif                22                 1                0\n",
      "Aktual Negatif                27                 5                9\n",
      "Aktual Netral                 10                 7               19\n",
      "\n",
      "Accuracy: 0.46 | Precision: 0.4786893897063389 | Recall: 0.5354169121401359 | F1-Score: 0.43850685034628123\n"
     ]
    }
   ],
   "source": [
    "from sklearn.metrics import confusion_matrix, classification_report\n",
    "\n",
    "cm = confusion_matrix(sentimen_tesset, sentimen_IndoLEM)\n",
    "\n",
    "# Membuat dataframe dari confusion matrix\n",
    "df_cm = pd.DataFrame(cm, index=['Aktual Positif', 'Aktual Negatif', 'Aktual Netral'], columns=['Prediksi Positif', 'Prediksi Negatif', 'Prediksi Netral'])\n",
    "print(\"\\n\\nMatriks Kebingungan:\")\n",
    "print(df_cm)\n",
    "\n",
    "\n",
    "target_names = ['Kelas Positif', 'Kelas Negatif', 'Kelas Netral']\n",
    "\n",
    "report = classification_report(sentimen_tesset, sentimen_IndoLEM, target_names=target_names, digits=4, output_dict=True)\n",
    "\n",
    "accuracy = report['accuracy']\n",
    "macro_avg = report['macro avg']\n",
    "\n",
    "output = f\"\\nAccuracy: {accuracy} | Precision: {macro_avg['precision']} | Recall: {macro_avg['recall']} | F1-Score: {macro_avg['f1-score']}\"\n",
    "\n",
    "print(output)"
   ]
  }
 ],
 "metadata": {
  "kernelspec": {
   "display_name": "Python 3",
   "language": "python",
   "name": "python3"
  },
  "language_info": {
   "codemirror_mode": {
    "name": "ipython",
    "version": 3
   },
   "file_extension": ".py",
   "mimetype": "text/x-python",
   "name": "python",
   "nbconvert_exporter": "python",
   "pygments_lexer": "ipython3",
   "version": "3.10.7"
  },
  "orig_nbformat": 4
 },
 "nbformat": 4,
 "nbformat_minor": 2
}
